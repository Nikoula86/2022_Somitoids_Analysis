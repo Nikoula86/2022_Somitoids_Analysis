{
 "cells": [
  {
   "cell_type": "code",
   "execution_count": 1,
   "id": "92d41625",
   "metadata": {},
   "outputs": [],
   "source": [
    "import os, glob, sys, pickle\n",
    "import numpy as np\n",
    "import seaborn as sns\n",
    "import matplotlib.pyplot as plt\n",
    "import pandas as pd\n",
    "from matplotlib import rc\n",
    "\n",
    "plt.rcParams.update({'font.size': 15})\n",
    "rc('font', size=12)\n",
    "rc('font', family='Arial')\n",
    "# plt.style.use('dark_background')\n",
    "rc('pdf', fonttype=42)"
   ]
  },
  {
   "cell_type": "code",
   "execution_count": 2,
   "id": "b90a9d89",
   "metadata": {},
   "outputs": [
    {
     "data": {
      "text/plain": [
       "'Z:/Marina/20210830_somitoid_data/Fig1/f/day7-3'"
      ]
     },
     "execution_count": 2,
     "metadata": {},
     "output_type": "execute_result"
    }
   ],
   "source": [
    "#folder = os.path.join('..','Revise','circurarity','day7')\n",
    "folder = os.path.join('Z:/Marina/20210830_somitoid_data/Fig1/f/day7-3')\n",
    "flist = glob.glob(os.path.join(folder,'*_SomiteSize.pickle'))\n",
    "flist.sort()\n",
    "folder"
   ]
  },
  {
   "cell_type": "code",
   "execution_count": 3,
   "id": "3c072e15",
   "metadata": {},
   "outputs": [
    {
     "data": {
      "text/plain": [
       "['Z:/Marina/20210830_somitoid_data/Fig1/f/day7-3\\\\7-3_SomiteSize.pickle']"
      ]
     },
     "execution_count": 3,
     "metadata": {},
     "output_type": "execute_result"
    }
   ],
   "source": [
    "flist"
   ]
  },
  {
   "cell_type": "code",
   "execution_count": 4,
   "id": "e5b3a7f6",
   "metadata": {},
   "outputs": [],
   "source": [
    "### read data\n",
    "data = []\n",
    "\n",
    "for fname in flist:\n",
    "    with open(fname, 'rb') as handle:\n",
    "        a = pickle.load(handle)\n",
    "\n",
    "    circularities = []\n",
    "\n",
    "    for i in range(len(a['somite_size']['area'])):\n",
    "\n",
    "        l = a['somite_size']['length'][i]\n",
    "        w = a['somite_size']['width'][i]\n",
    "        area = a['somite_size']['area'][i]*1e-6\n",
    "\n",
    "        majax = 1e-3*np.max([l,w])\n",
    "        minax = 1e-3*np.min([l,w])\n",
    "\n",
    "        perimeter = np.pi*(3*(majax+minax)-np.sqrt(10*majax*minax+3*(majax**2+minax**2)))\n",
    "        circularity = 4*np.pi*area/perimeter\n",
    "\n",
    "        circularities.append(circularity)\n",
    "\n",
    "    a['somite_size']['circularity'] = circularities\n",
    "        \n",
    "    data.append([a])"
   ]
  },
  {
   "cell_type": "code",
   "execution_count": 5,
   "id": "09f75e9c",
   "metadata": {},
   "outputs": [
    {
     "data": {
      "text/plain": [
       "'7-3_SomiteSize'"
      ]
     },
     "execution_count": 5,
     "metadata": {},
     "output_type": "execute_result"
    }
   ],
   "source": [
    "os.path.splitext(os.path.split(flist[0])[-1])[0]"
   ]
  },
  {
   "cell_type": "code",
   "execution_count": 6,
   "id": "1762d322",
   "metadata": {},
   "outputs": [
    {
     "name": "stdout",
     "output_type": "stream",
     "text": [
      "dict_keys(['midline', 'segmentation_params', 'img', 'mask', 'somite_size', 'somite_lims'])\n",
      "dict_keys(['endpoints', 'ps', 'ts', 'ns', 'arc_length', 'profile'])\n",
      "dict_keys(['thr_type', 'max_hole', 'min_object', 'disk_size'])\n",
      "dict_keys(['area', 'length', 'width', 'circularity'])\n"
     ]
    }
   ],
   "source": [
    "print(data[0][0].keys())\n",
    "\n",
    "print(data[0][0]['midline'].keys())\n",
    "print(data[0][0]['segmentation_params'].keys())\n",
    "print(data[0][0]['somite_size'].keys())\n"
   ]
  },
  {
   "cell_type": "code",
   "execution_count": 7,
   "id": "b2aeac62",
   "metadata": {},
   "outputs": [],
   "source": [
    "area = np.array([d[0]['somite_size']['area'] for d in data])*1e-6\n",
    "length = [d[0]['somite_size']['length'] for d in data]\n",
    "width = [d[0]['somite_size']['width'] for d in data]\n",
    "circularity = [d[0]['somite_size']['circularity'] for d in data]"
   ]
  },
  {
   "cell_type": "code",
   "execution_count": 8,
   "id": "cfb75683",
   "metadata": {},
   "outputs": [],
   "source": [
    "df = pd.DataFrame({})\n",
    "\n",
    "for i in range(len(area)):\n",
    "    f = os.path.splitext(os.path.split(flist[i])[-1])[0]\n",
    "    a = area[i]\n",
    "    l = length[i]\n",
    "    w = width[i]\n",
    "    c = circularity[i]\n",
    "    n = 1+np.arange(len(a))\n",
    "    \n",
    "    df1 = pd.DataFrame({\n",
    "                        'fname':f,\n",
    "                        'somite_n':n,\n",
    "                        'area':a,\n",
    "                        'length':l,\n",
    "                        'width':w,\n",
    "                        'circularity':c\n",
    "                       })\n",
    "    \n",
    "    df = pd.concat([df, df1], ignore_index=True)\n",
    "    "
   ]
  },
  {
   "cell_type": "code",
   "execution_count": 9,
   "id": "90e81e0a",
   "metadata": {},
   "outputs": [
    {
     "data": {
      "text/html": [
       "<div>\n",
       "<style scoped>\n",
       "    .dataframe tbody tr th:only-of-type {\n",
       "        vertical-align: middle;\n",
       "    }\n",
       "\n",
       "    .dataframe tbody tr th {\n",
       "        vertical-align: top;\n",
       "    }\n",
       "\n",
       "    .dataframe thead th {\n",
       "        text-align: right;\n",
       "    }\n",
       "</style>\n",
       "<table border=\"1\" class=\"dataframe\">\n",
       "  <thead>\n",
       "    <tr style=\"text-align: right;\">\n",
       "      <th></th>\n",
       "      <th>fname</th>\n",
       "      <th>somite_n</th>\n",
       "      <th>area</th>\n",
       "      <th>length</th>\n",
       "      <th>width</th>\n",
       "      <th>circularity</th>\n",
       "    </tr>\n",
       "  </thead>\n",
       "  <tbody>\n",
       "    <tr>\n",
       "      <th>0</th>\n",
       "      <td>7-3_SomiteSize</td>\n",
       "      <td>1</td>\n",
       "      <td>0.020155</td>\n",
       "      <td>118.421984</td>\n",
       "      <td>180.504302</td>\n",
       "      <td>0.266814</td>\n",
       "    </tr>\n",
       "    <tr>\n",
       "      <th>1</th>\n",
       "      <td>7-3_SomiteSize</td>\n",
       "      <td>2</td>\n",
       "      <td>0.022570</td>\n",
       "      <td>133.647668</td>\n",
       "      <td>182.127046</td>\n",
       "      <td>0.284220</td>\n",
       "    </tr>\n",
       "    <tr>\n",
       "      <th>2</th>\n",
       "      <td>7-3_SomiteSize</td>\n",
       "      <td>3</td>\n",
       "      <td>0.026077</td>\n",
       "      <td>159.023808</td>\n",
       "      <td>174.422792</td>\n",
       "      <td>0.312654</td>\n",
       "    </tr>\n",
       "    <tr>\n",
       "      <th>3</th>\n",
       "      <td>7-3_SomiteSize</td>\n",
       "      <td>4</td>\n",
       "      <td>0.039326</td>\n",
       "      <td>219.926542</td>\n",
       "      <td>207.933123</td>\n",
       "      <td>0.367584</td>\n",
       "    </tr>\n",
       "    <tr>\n",
       "      <th>4</th>\n",
       "      <td>7-3_SomiteSize</td>\n",
       "      <td>5</td>\n",
       "      <td>0.044504</td>\n",
       "      <td>231.768741</td>\n",
       "      <td>213.662876</td>\n",
       "      <td>0.399487</td>\n",
       "    </tr>\n",
       "  </tbody>\n",
       "</table>\n",
       "</div>"
      ],
      "text/plain": [
       "            fname  somite_n      area      length       width  circularity\n",
       "0  7-3_SomiteSize         1  0.020155  118.421984  180.504302     0.266814\n",
       "1  7-3_SomiteSize         2  0.022570  133.647668  182.127046     0.284220\n",
       "2  7-3_SomiteSize         3  0.026077  159.023808  174.422792     0.312654\n",
       "3  7-3_SomiteSize         4  0.039326  219.926542  207.933123     0.367584\n",
       "4  7-3_SomiteSize         5  0.044504  231.768741  213.662876     0.399487"
      ]
     },
     "execution_count": 9,
     "metadata": {},
     "output_type": "execute_result"
    }
   ],
   "source": [
    "df"
   ]
  },
  {
   "cell_type": "code",
   "execution_count": 10,
   "id": "de016c2b",
   "metadata": {},
   "outputs": [],
   "source": [
    "df.to_csv('SomiteMorpho_Plotting.csv', index=False)"
   ]
  },
  {
   "cell_type": "code",
   "execution_count": 11,
   "id": "63dc8f4a",
   "metadata": {},
   "outputs": [
    {
     "data": {
      "image/png": "[encoded data removed]",
      "text/plain": [
       "<Figure size 720x1080 with 4 Axes>"
      ]
     },
     "metadata": {
      "needs_background": "light"
     },
     "output_type": "display_data"
    }
   ],
   "source": [
    "fig, ax = plt.subplots(4,1,figsize=(10,15))\n",
    "sns.barplot(data=df,x='somite_n',y='area',ax=ax[0])\n",
    "sns.swarmplot(data=df,x='somite_n',y='area',ax=ax[0], dodge=True, color='k')\n",
    "sns.barplot(data=df,x='somite_n',y='length',ax=ax[1])\n",
    "sns.swarmplot(data=df,x='somite_n',y='length',ax=ax[1], dodge=True, color='k')\n",
    "sns.barplot(data=df,x='somite_n',y='width',ax=ax[2])\n",
    "sns.swarmplot(data=df,x='somite_n',y='width',ax=ax[2], dodge=True, color='k')\n",
    "sns.barplot(data=df,x='somite_n',y='circularity',ax=ax[3])\n",
    "sns.swarmplot(data=df,x='somite_n',y='circularity',ax=ax[3], dodge=True, color='k')\n",
    "\n",
    "ax[0].set_ylabel('Area (mm2)')\n",
    "ax[1].set_ylabel('Length (um)')\n",
    "ax[2].set_ylabel('Width (um)')\n",
    "ax[3].set_ylabel('Circularity')\n",
    "ax[0].set_xlabel('Somite number')\n",
    "ax[1].set_xlabel('Somite number')\n",
    "ax[2].set_xlabel('Somite number')\n",
    "ax[3].set_xlabel('Somite number')\n",
    "\n",
    "ax[3].set_ylim(0.15,0.4)\n",
    "\n",
    "fig.savefig('SomiteMorpho_Plotting.pdf')"
   ]
  },
  {
   "cell_type": "code",
   "execution_count": null,
   "id": "a5745158",
   "metadata": {},
   "outputs": [],
   "source": []
  }
 ],
 "metadata": {
  "kernelspec": {
   "display_name": "Python 3 (ipykernel)",
   "language": "python",
   "name": "python3"
  },
  "language_info": {
   "codemirror_mode": {
    "name": "ipython",
    "version": 3
   },
   "file_extension": ".py",
   "mimetype": "text/x-python",
   "name": "python",
   "nbconvert_exporter": "python",
   "pygments_lexer": "ipython3",
   "version": "3.8.10"
  }
 },
 "nbformat": 4,
 "nbformat_minor": 5
}
